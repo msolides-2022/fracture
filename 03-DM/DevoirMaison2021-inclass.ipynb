{
 "cells": [
  {
   "cell_type": "code",
   "execution_count": 2,
   "metadata": {},
   "outputs": [],
   "source": [
    "import dolfin \n",
    "import mshr\n",
    "import ufl\n",
    "import matplotlib.pyplot as plt\n",
    "import numpy as np\n",
    "import mshr\n",
    "%config Completer.use_jedi = False\n",
    "%config IPCompleter.greedy = True\n",
    "\n",
    "def generate_mesh(Lc=4,n_div=30,n_ref=5,R_ref=0.5,Lx=10,H1=1,H2=1):\n",
    "    \"\"\"\n",
    "    Generate a polygonal mesh with:\n",
    "        - Lc : crack length\n",
    "        - n_div : number of divisions on the largest side\n",
    "        - n_ref : number of refinements around the crack\n",
    "        - r_ref : Radius for refinement around the crack\n",
    "        - Lx : Length\n",
    "        - H1 : Left side\n",
    "        - H2 : Rigth side\n",
    "    \"\"\"\n",
    "    p0 = dolfin.Point(0,0)\n",
    "    pc = dolfin.Point(Lc,0)\n",
    "    p1 = dolfin.Point(Lx,0)\n",
    "    p2 = dolfin.Point(Lx,H2)\n",
    "    p3 = dolfin.Point(0,H1)\n",
    "    geom = mshr.Polygon([p0,pc,p1,p2,p3])\n",
    "    mesh = mshr.generate_mesh(geom,n_div)\n",
    "    \n",
    "    for i in range(n_ref):\n",
    "        cell_markers = dolfin.MeshFunction(\"bool\", mesh, mesh.topology().dim())\n",
    "        cell_markers.set_all(False)\n",
    "        for cell in dolfin.cells(mesh):\n",
    "            if cell.midpoint().distance(pc) < R_ref :\n",
    "                cell_markers[cell] = True\n",
    "        mesh = dolfin.refine(mesh, cell_markers)\n",
    "    \n",
    "    return mesh \n",
    "\n",
    "\n",
    "def eps(u):\n",
    "    return dolfin.sym(dolfin.grad(u))\n",
    "\n",
    "def sigma(epsilon):\n",
    "    E = 1.\n",
    "    nu = 0.3\n",
    "    # Elasticity parameters\n",
    "    mu = E/(2*(1.0 + nu)) # lame 1 (plane-strain)\n",
    "    lmbda = E*nu/((1.0 + nu)*(1.0 -2.0*nu)) # lame 2 (plane-strain) \n",
    "    return  2*mu*epsilon + lmbda*dolfin.tr(epsilon)*dolfin.Identity(2)\n",
    "\n",
    "def dcb_solver(Lc=4,n_div=30,n_ref=5,R_ref=0.5,Lx=10,H1=1,H2=1):\n",
    "    \n",
    "    mesh = generate_mesh(Lc=Lc,n_div=n_div,n_ref=n_ref,R_ref=R_ref,Lx=Lx,H1=H1,H2=H2)\n",
    "    \n",
    "    V = dolfin.VectorFunctionSpace(mesh, \"Lagrange\", 2)\n",
    "    \n",
    "    # Boundary conditions\n",
    "    u0 = dolfin.Constant(0.0)\n",
    "    u1 = dolfin.Constant(1)\n",
    "    bc_bottom = dolfin.DirichletBC(V.sub(1), u0, f\"on_boundary & near(x[1],0) && x[0] > {Lc}\")\n",
    "    bc_left = dolfin.DirichletBC(V.sub(1), u1, \"on_boundary & near(x[0],0)\")\n",
    "    bc_right = dolfin.DirichletBC(V.sub(0), u0, f\"on_boundary & near(x[0],{Lx})\")\n",
    "    bcs = [bc_right, bc_bottom, bc_left]\n",
    "    \n",
    "    # Variational formulation of the problem \n",
    "    \n",
    "    u = dolfin.TrialFunction(V)\n",
    "    v = dolfin.TestFunction(V)\n",
    "\n",
    "    # bilinear form\n",
    "    a = dolfin.inner(sigma(eps(u)), eps(v)) * dolfin.dx \n",
    "    \n",
    "    # linear form\n",
    "    \n",
    "    # Bulk load \n",
    "    bulk_load = dolfin.Constant((0.,0.))\n",
    "    L = dolfin.inner(bulk_load,v) * dolfin.dx\n",
    "    \n",
    "    A = dolfin.assemble(a)\n",
    "    b = dolfin.assemble(L)\n",
    "    for bc in bcs:\n",
    "        bc.apply(A,b)\n",
    "    \n",
    "    usol = dolfin.Function(V)\n",
    "    dolfin.solve(A,usol.vector(),b) \n",
    "    energy = 0.5 * dolfin.assemble(dolfin.inner(sigma(eps(usol)), eps(usol)) * dolfin.dx)\n",
    "\n",
    "    return usol, energy\n",
    "\n",
    "def create_theta_field(mesh,Lcrack,R_int,R_ext):\n",
    "\n",
    "    V_theta = dolfin.FunctionSpace(mesh,\"P\",1)\n",
    "\n",
    "    theta = dolfin.Function(V_theta)\n",
    "    theta_test = dolfin.TestFunction(V_theta)\n",
    "    theta_trial = dolfin.TrialFunction(V_theta)\n",
    "   \n",
    "    def inner_domain(x):\n",
    "        return np.sqrt((x[0]-Lc)**2 + x[1]**2) < R_int\n",
    "    \n",
    "    def outer_domain(x):\n",
    "        return np.sqrt((x[0]-Lc)**2 + x[1]**2) > R_ext\n",
    "    \n",
    "    one = dolfin.Function(V_theta)\n",
    "    zero = dolfin.Function(V_theta)\n",
    "    one.interpolate(dolfin.Constant(1.))\n",
    "    bc_0 = dolfin.DirichletBC(V_theta, zero, outer_domain)\n",
    "    bc_1 = dolfin.DirichletBC(V_theta, one, inner_domain)\n",
    "        \n",
    "    bcs = [bc_0, bc_1]\n",
    "    \n",
    "    a = ufl.dot(ufl.grad(theta_trial), ufl.grad(theta_test)) * ufl.dx\n",
    "    L = zero * theta_test * ufl.dx \n",
    "    A, b = dolfin.assemble_system(a,L,bcs)\n",
    "    dolfin.solve(A,theta.vector(),b)\n",
    "    return theta\n",
    "\n",
    "def compute_ERR(u,Lc,Rmin,Rmax):\n",
    "    \n",
    "    V = u.function_space()\n",
    "    \n",
    "    theta = create_theta_field(V.mesh(),Lc,Rmin,Rmax)\n",
    "    \n",
    "    eps_ = eps(u)\n",
    "    sig_ = sigma(eps_)\n",
    "    \n",
    "    thetav = theta * ufl.as_vector([1,0])\n",
    "    \n",
    "    first_term = ufl.inner(sig_,ufl.grad(u) * ufl.grad(thetav)) * ufl.dx\n",
    "    second_term = - 0.5 * ufl.inner(sig_,eps_) * ufl.div(thetav) * ufl.dx\n",
    "    \n",
    "    G_theta = 2 * dolfin.assemble(first_term + second_term )\n",
    "    print(f'The ERR computed with the G-theta method is {G_theta:2.4f}' )\n",
    "    return G_theta"
   ]
  },
  {
   "cell_type": "code",
   "execution_count": 9,
   "metadata": {},
   "outputs": [
    {
     "data": {
      "text/plain": [
       "[<matplotlib.lines.Line2D at 0x7f18b47685b0>,\n",
       " <matplotlib.lines.Line2D at 0x7f18b4768940>]"
      ]
     },
     "execution_count": 9,
     "metadata": {},
     "output_type": "execute_result"
    },
    {
     "data": {
      "image/png": "[encoded data removed]",
      "text/plain": [
       "<Figure size 432x288 with 1 Axes>"
      ]
     },
     "metadata": {
      "needs_background": "light"
     },
     "output_type": "display_data"
    }
   ],
   "source": [
    "mesh = generate_mesh(Lc=7,n_div=30,n_ref=5,R_ref=0.5,Lx=10,H1=1,H2=1.)\n",
    "dolfin.plot(mesh)"
   ]
  },
  {
   "cell_type": "code",
   "execution_count": 54,
   "metadata": {},
   "outputs": [
    {
     "data": {
      "image/png": "[encoded data removed]",
      "text/plain": [
       "<Figure size 432x288 with 1 Axes>"
      ]
     },
     "metadata": {
      "needs_background": "light"
     },
     "output_type": "display_data"
    },
    {
     "data": {
      "image/png": "[encoded data removed]",
      "text/plain": [
       "<Figure size 432x288 with 1 Axes>"
      ]
     },
     "metadata": {
      "needs_background": "light"
     },
     "output_type": "display_data"
    },
    {
     "data": {
      "image/png": "[encoded data removed]",
      "text/plain": [
       "<Figure size 432x288 with 1 Axes>"
      ]
     },
     "metadata": {
      "needs_background": "light"
     },
     "output_type": "display_data"
    }
   ],
   "source": [
    "Lc = 4.\n",
    "usol, energy = dcb_solver(Lc=Lc,n_div=30,n_ref=5,R_ref=0.5,Lx=10,H1=1,H2=1.)\n",
    "dolfin.plot(usol,mode=\"displacement\")\n",
    "plt.figure()\n",
    "\n",
    "V = usol.function_space()\n",
    "mesh = V.mesh()\n",
    "dolfin.plot(mesh)\n",
    "V_theta = dolfin.FunctionSpace(mesh,'P',1)\n",
    "theta = dolfin.Function(V_theta)\n",
    "\n",
    "theta_trial = dolfin.TrialFunction(V_theta)\n",
    "theta_test = dolfin.TestFunction(V_theta)\n",
    "\n",
    "a = ufl.dot(ufl.grad(theta_trial),ufl.grad(theta_test)) * dolfin.dx \n",
    "L = dolfin.Constant(0.) * theta_test * dolfin.dx \n",
    "\n",
    "R_int = Lc/16.\n",
    "R_ext = Lc/8.\n",
    "def inner_domain(x):\n",
    "    return np.sqrt((x[0]-Lc)**2 + x[1]**2) < R_int\n",
    "\n",
    "def outer_domain(x):\n",
    "    return np.sqrt((x[0]-Lc)**2 + x[1]**2) > R_ext\n",
    "\n",
    "one = dolfin.Function(V_theta)\n",
    "zero = dolfin.Function(V_theta)\n",
    "one.interpolate(dolfin.Constant(1.))\n",
    "bc_0 = dolfin.DirichletBC(V_theta, zero, outer_domain)\n",
    "bc_1 = dolfin.DirichletBC(V_theta, one, inner_domain)\n",
    "        \n",
    "bcs = [bc_0, bc_1]\n",
    "A,b = dolfin.assemble_system(a,L,bcs)\n",
    "dolfin.solve(A,theta.vector(),b)\n",
    "plt.figure()\n",
    "dolfin.plot(theta)\n",
    "\n",
    "e_1 = ufl.as_vector([1,0])\n",
    "theta_v = theta * e_1\n"
   ]
  },
  {
   "cell_type": "code",
   "execution_count": 57,
   "metadata": {},
   "outputs": [
    {
     "name": "stdout",
     "output_type": "stream",
     "text": [
      "Calling FFC just-in-time (JIT) compiler, this may take some time.\n",
      "0.0008831992742237015\n",
      "-2.253711110288833e-05\n",
      "0.0017213243262416261\n"
     ]
    }
   ],
   "source": [
    "eps_sol = eps(usol)\n",
    "sigma_sol = sigma(eps_sol)\n",
    "\n",
    "W = 0.5 * ufl.inner(sigma_sol,eps_sol)\n",
    "\n",
    "first_term = dolfin.assemble(ufl.inner(sigma_sol, ufl.grad(usol) * ufl.grad(theta_v) ) * dolfin.dx) \n",
    "second_term = - dolfin.assemble(W * ufl.div(theta_v) * dolfin.dx)\n",
    "print(first_term)\n",
    "print(second_term)\n",
    "\n",
    "G = 2 * (first_term + second_term)\n",
    "print(G)"
   ]
  },
  {
   "cell_type": "code",
   "execution_count": 59,
   "metadata": {},
   "outputs": [
    {
     "name": "stdout",
     "output_type": "stream",
     "text": [
      "Calling FFC just-in-time (JIT) compiler, this may take some time.\n",
      "The ERR computed with the G-theta method is 0.0017\n"
     ]
    },
    {
     "data": {
      "text/plain": [
       "0.001721324326241628"
      ]
     },
     "execution_count": 59,
     "metadata": {},
     "output_type": "execute_result"
    }
   ],
   "source": [
    "R_int = Lc/16.\n",
    "R_ext = Lc/8.\n",
    "compute_ERR(usol,Lc,R_int,R_ext)"
   ]
  },
  {
   "cell_type": "markdown",
   "metadata": {},
   "source": [
    "# Q1\n",
    "Let us denote by $P$ and $G$ the dimensionless potential energy and the dimensionless energy release rate obtained for a Young modulus $E=1$ and an applied displacement $t=1$ on a mesh with the same aspect ratio as the original geometry but with thickness at the left-end $H=1$. Show that the dimensional value of the energy $P_\\mathrm{dimensional}$ and the energy release rate $G_\\mathrm{dimensional}$ for a structure of thickness at the left-end $H$, Young modulus $E$ with applied displacement $t$ and with a depth $b$ are given by\n",
    "$$\n",
    "P_\\mathrm{dimensional}={E \\, b\\, t^2}  P,\\quad G_\\mathrm{dimensional}=\\frac{E\\,b\\, t^2}{H} G\n",
    "$$\n",
    "This will allows us to perform, without loss of generality, the numerical simulations on a mesh of thickness at the left-hand $H=1$ with $t=1$ and $E=1$."
   ]
  },
  {
   "cell_type": "markdown",
   "metadata": {},
   "source": [
    "# Q2 \n",
    "Consider the following geometry and mesh, for which we provide a solver of the elastic problem below (`dcb_solver`) with a value of the value of the thickness at the right-hand $H_2$ given for your group (you should replace with this value the $H_2=1$ in the code below). Determine the dimensionless energy release rate $G$ for $L=4.$ using the following methods:\n",
    "\n",
    " a. Crack opening displacement\n",
    " \n",
    " b. G-$\\theta$\n",
    " "
   ]
  },
  {
   "cell_type": "code",
   "execution_count": null,
   "metadata": {},
   "outputs": [],
   "source": [
    "Lc = 4\n",
    "Lx = 1.\n",
    "mesh = generate_mesh(Lc=4,n_div=30,n_ref=5,R_ref=0.5,Lx=12,H1=1.0,H2=1.0)\n",
    "dolfin.plot(mesh)\n",
    "plt.plot([0,Lc],[0,0],\"-r\")"
   ]
  },
  {
   "cell_type": "code",
   "execution_count": null,
   "metadata": {},
   "outputs": [],
   "source": [
    "usol, energy = dcb_solver(Lc=4,n_div=30,n_ref=5,R_ref=0.5,Lx=12.,H1=1.,H2=1.0)\n",
    "dolfin.plot(usol,mode=\"displacement\")"
   ]
  },
  {
   "cell_type": "markdown",
   "metadata": {},
   "source": [
    "# Q3 \n",
    "For the following numerical values (PMMA) $E = 2.4\\,GPa$ , \n",
    "$H = 8\\,mm$, $G_c=1.4 Nm^{-1}$, and considering a plate with a prexisting crack \n",
    "$\\ell_0 = 32\\,mm$, determine the critical displacement $t_c$ at which the crack start propagating."
   ]
  },
  {
   "cell_type": "markdown",
   "metadata": {},
   "source": [
    "# Q4 \n",
    "\n",
    "Plot the energy release rate as a function of the crack length for $\\ell\\in[4,8]$ computed with:\n",
    "\n",
    "a -  The G-$\\theta$ method\n",
    "\n",
    "b - The finite difference approximation of the potential energy\n",
    "\n",
    "Compare the numerical results against the analytical results obtained with the beam theory approximation, and comment."
   ]
  },
  {
   "cell_type": "markdown",
   "metadata": {},
   "source": [
    "# Q5\n",
    "\n",
    "Using the result of the previous question and the results of Lecture 4:\n",
    " \n",
    " a - Is the crack propagation at imposed displacement stable? Why?\n",
    " \n",
    " b - Provide a dimensionless plot of the crack length as a function of the applied displacement.\n",
    " \n",
    " c - Plot the global force-displacement diagram\n",
    " \n",
    " d - Would the propagation be stable at imposed force? Justify your answer using the material of the course.\n"
   ]
  },
  {
   "cell_type": "code",
   "execution_count": null,
   "metadata": {},
   "outputs": [],
   "source": []
  }
 ],
 "metadata": {
  "kernelspec": {
   "display_name": "Python 3",
   "language": "python",
   "name": "python3"
  },
  "language_info": {
   "codemirror_mode": {
    "name": "ipython",
    "version": 3
   },
   "file_extension": ".py",
   "mimetype": "text/x-python",
   "name": "python",
   "nbconvert_exporter": "python",
   "pygments_lexer": "ipython3",
   "version": "3.8.5"
  }
 },
 "nbformat": 4,
 "nbformat_minor": 4
}
