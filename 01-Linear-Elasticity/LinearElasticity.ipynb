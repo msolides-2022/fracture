{
 "cells": [
  {
   "cell_type": "markdown",
   "id": "included-constitution",
   "metadata": {},
   "source": [
    "# Linear Elasticity\n",
    "\n",
    "*Authors: Jack Hale, (Univ. Luxembourg), Laura De Lorenzis (ETH Zürich) and Corrado Maurini (corrado.maurini@sorbonne-universite.fr)*\n",
    "\n",
    "This notebook serves as a tutorial to solve a problem of linear elasticity using DOLFINx.\n",
    "\n",
    "You can find a tutorial and useful resources for DOLFINx at the following links\n",
    "\n",
    "- https://docs.fenicsproject.org/\n",
    "- https://github.com/FEniCS/dolfinx/\n",
    "- https://jorgensd.github.io/dolfinx-tutorial/, see https://jorgensd.github.io/dolfinx-tutorial/chapter2/linearelasticity.html for linear elasticity\n",
    "\n",
    "We consider an elastic slab $\\Omega$ with a straight crack $\\Gamma$ subject to a mode-I loading by an applied traction force $f$, see figure. \n",
    "\n",
    "Using the symmetry, we will consider only half of the domain in the computation.\n",
    "\n",
    "![title](./domain.png)\n",
    "\n",
    "We solve the problem of linear elasticity with the finite element method, implemented using DOLFINx.\n",
    "\n",
    "FEniCSX is advanced library that allows for efficient parallel computation. For the sake of simplicity, we assume here to work on a single processor and will not use MPI-related commands. Using DOLFINx with MPI will be covered in the afternoon session."
   ]
  },
  {
   "cell_type": "code",
   "execution_count": 3,
   "id": "progressive-invite",
   "metadata": {},
   "outputs": [],
   "source": [
    "import sys\n",
    "sys.path.append(\"../python\")\n",
    "\n",
    "# Import required libraries\n",
    "import matplotlib.pyplot as plt\n",
    "import numpy as np\n",
    "\n",
    "import dolfinx.fem as fem\n",
    "import dolfinx.mesh as mesh\n",
    "import dolfinx.io as io\n",
    "import dolfinx.plot as plot\n",
    "import ufl\n",
    "\n",
    "from mpi4py import MPI\n",
    "from petsc4py import PETSc\n",
    "from petsc4py.PETSc import ScalarType\n",
    "\n",
    "from meshes import generate_mesh_with_crack\n",
    "\n",
    "plt.rcParams[\"figure.figsize\"] = (40,6)"
   ]
  },
  {
   "cell_type": "markdown",
   "id": "handled-making",
   "metadata": {},
   "source": [
    "Let us generate a mesh using gmsh (http://gmsh.info/). \n",
    "\n",
    "The function to generate the mesh is reported in the external file `meshes.py`. \n",
    "The mesh is refined around the crack tip."
   ]
  },
  {
   "cell_type": "code",
   "execution_count": 4,
   "id": "superior-exhibition",
   "metadata": {},
   "outputs": [
    {
     "name": "stdout",
     "output_type": "stream",
     "text": [
      "Info    : Meshing 1D...\n",
      "Info    : [  0%] Meshing curve 1 (Line)\n",
      "Info    : [ 20%] Meshing curve 2 (Line)\n",
      "Info    : [ 40%] Meshing curve 3 (Line)\n",
      "Info    : [ 60%] Meshing curve 4 (Line)\n",
      "Info    : [ 80%] Meshing curve 5 (Line)\n",
      "Info    : Done meshing 1D (Wall 0.00232046s, CPU 0.002527s)\n",
      "Info    : Meshing 2D...\n",
      "Info    : Meshing surface 1 (Plane, Frontal-Delaunay)\n",
      "Info    : Done meshing 2D (Wall 0.00641546s, CPU 0.006368s)\n",
      "Info    : 413 nodes 829 elements\n"
     ]
    },
    {
     "name": "stderr",
     "output_type": "stream",
     "text": [
      "Warning : Gmsh has aleady been initialized\n"
     ]
    }
   ],
   "source": [
    "Lx = 1.\n",
    "Ly = .5\n",
    "Lcrack = 0.3\n",
    "lc =.2\n",
    "dist_min = .1\n",
    "dist_max = .3\n",
    "msh, mt, ft = generate_mesh_with_crack(\n",
    "        Lcrack=Lcrack,\n",
    "        Ly=0.5,\n",
    "        lc=0.1,  # caracteristic length of the mesh\n",
    "        refinement_ratio=10,  # how much it is refined at the tip zone\n",
    "        dist_min=dist_min,  # radius of tip zone\n",
    "        dist_max=dist_max,  # radius of the transition zone\n",
    "    )"
   ]
  },
  {
   "cell_type": "markdown",
   "id": "magnetic-slovak",
   "metadata": {},
   "source": [
    "To plot the mesh we use `pyvista` see:\n",
    "- https://jorgensd.github.io/dolfinx-tutorial/chapter3/component_bc.html\n",
    "- https://docs.fenicsproject.org/dolfinx/main/python/demos/pyvista/demo_pyvista.py.html"
   ]
  },
  {
   "cell_type": "code",
   "execution_count": 5,
   "id": "peripheral-stretch",
   "metadata": {},
   "outputs": [
    {
     "data": {
      "application/vnd.jupyter.widget-view+json": {
       "model_id": "e0d4650e960f40dcb16704d2f40f37f4",
       "version_major": 2,
       "version_minor": 0
      },
      "text/plain": [
       "Renderer(camera=PerspectiveCamera(aspect=1.3333333333333333, children=(DirectionalLight(intensity=0.25, positi…"
      ]
     },
     "metadata": {},
     "output_type": "display_data"
    }
   ],
   "source": [
    "import pyvista\n",
    "\n",
    "pyvista.set_jupyter_backend(\"pythreejs\")\n",
    "\n",
    "# Extract topology from mesh and create pyvista mesh\n",
    "topology, cell_types, x = plot.create_vtk_mesh(msh)\n",
    "grid = pyvista.UnstructuredGrid(topology, cell_types, x)\n",
    "\n",
    "plotter = pyvista.Plotter()\n",
    "plotter.add_mesh(grid, show_edges=True)\n",
    "plotter.camera_position = 'xy'\n",
    "\n",
    "pyvista.OFF_SCREEN = False\n",
    "if not pyvista.OFF_SCREEN:\n",
    "    plotter.show()\n",
    "else:\n",
    "    pyvista.start_xvfb()\n",
    "    plotter.screenshot(\"deflection2.png\")"
   ]
  },
  {
   "cell_type": "markdown",
   "id": "wrapped-yellow",
   "metadata": {},
   "source": [
    "## Finite element function space\n",
    "\n",
    "We use here linear Lagrange triangle elements"
   ]
  },
  {
   "cell_type": "code",
   "execution_count": 6,
   "id": "owned-alarm",
   "metadata": {},
   "outputs": [],
   "source": [
    "element = ufl.VectorElement('Lagrange',msh.ufl_cell(),degree=1,dim=2)\n",
    "V = fem.FunctionSpace(msh, element)"
   ]
  },
  {
   "cell_type": "markdown",
   "id": "returning-cricket",
   "metadata": {},
   "source": [
    "## Dirichlet boundary conditions\n",
    "\n",
    "We define below the functions to impose the Dirichlet boundary conditions.\n",
    "\n",
    "In our case we want to \n",
    "- block the vertical component $u_1$ of the displacement on the part of the bottom boundary without crack\n",
    "- block the horizontal component $u_0$ on the right boundary\n",
    "\n",
    "We first get the facets to block on the boundary (`dolfinx.mesh.locate_entities_boundary`) and then the corresponding dofs (`dolfinx.fem.locate_dofs_topological`)"
   ]
  },
  {
   "cell_type": "code",
   "execution_count": 7,
   "id": "confirmed-memphis",
   "metadata": {},
   "outputs": [],
   "source": [
    "def bottom_no_crack(x):\n",
    "    return np.logical_and(np.isclose(x[1], 0.0), \n",
    "                          x[0] > Lcrack)\n",
    "\n",
    "def right(x):\n",
    "    return np.isclose(x[0], Lx)\n",
    "\n",
    "V_x = V.sub(0)\n",
    "V_y = V.sub(1)\n",
    "\n",
    "bottom_no_crack_facets = mesh.locate_entities_boundary(msh, msh.topology.dim-1, bottom_no_crack)\n",
    "bottom_no_crack_dofs_y = fem.locate_dofs_topological(V.sub(1), msh.topology.dim-1, bottom_no_crack_facets)\n",
    "\n",
    "right_facets = mesh.locate_entities_boundary(msh, msh.topology.dim-1, right)\n",
    "right_dofs_x = fem.locate_dofs_topological(V.sub(0), msh.topology.dim-1, right_facets)\n"
   ]
  },
  {
   "cell_type": "markdown",
   "id": "wooden-scope",
   "metadata": {},
   "source": [
    "The following lines define the `dolfinx.fem.dirichletbc` objects. We impose a zero displacement."
   ]
  },
  {
   "cell_type": "code",
   "execution_count": 8,
   "id": "unexpected-poster",
   "metadata": {},
   "outputs": [],
   "source": [
    "bc_bottom = fem.dirichletbc(ScalarType(0), bottom_no_crack_dofs_y, V.sub(1))\n",
    "bc_right = fem.dirichletbc(ScalarType(0), right_dofs_x, V.sub(0))\n",
    "bcs = [bc_bottom, bc_right]"
   ]
  },
  {
   "cell_type": "markdown",
   "id": "lovely-parker",
   "metadata": {},
   "source": [
    "## Define the bulk and surface mesures\n",
    "The bulk (`dx`) and surface (`ds`) measures are used by `ufl`to write variational form with integral over the domain or the boundary, respectively. In this example the surface measure `ds` includes tags to specify Neumann bcs: `ds(1)` will mean the integral on the top boundary. "
   ]
  },
  {
   "cell_type": "code",
   "execution_count": 9,
   "id": "artificial-vinyl",
   "metadata": {},
   "outputs": [],
   "source": [
    "dx = ufl.Measure(\"dx\",domain=msh)\n",
    "top_facets = mesh.locate_entities_boundary(msh, 1, lambda x : np.isclose(x[1], Ly))\n",
    "mt = mesh.meshtags(msh, 1, top_facets, 1)\n",
    "ds = ufl.Measure(\"ds\", subdomain_data=mt)"
   ]
  },
  {
   "cell_type": "markdown",
   "id": "relevant-matrix",
   "metadata": {},
   "source": [
    "In Python, you can get help on the different functions with the folling syntax:"
   ]
  },
  {
   "cell_type": "code",
   "execution_count": 10,
   "id": "supported-westminster",
   "metadata": {},
   "outputs": [
    {
     "name": "stdout",
     "output_type": "stream",
     "text": [
      "Help on function meshtags in module dolfinx.mesh:\n",
      "\n",
      "meshtags(mesh: 'Mesh', dim: 'int', indices: 'np.ndarray', values: 'typing.Union[np.ndarray, int, float]') -> 'MeshTagsMetaClass'\n",
      "    Create a MeshTags object that associates data with a subset of mesh entities.\n",
      "    \n",
      "    Args:\n",
      "        mesh: The mesh\n",
      "        dim: Topological dimension of the mesh entity\n",
      "        indices: Entity indices (local to process)\n",
      "        values: The corresponding value for each entity\n",
      "    \n",
      "    Returns:\n",
      "        A MeshTags object\n",
      "    \n",
      "    Note:\n",
      "        The type of the returned MeshTags is inferred from the type of\n",
      "        ``values``.\n",
      "\n"
     ]
    }
   ],
   "source": [
    "help(mesh.meshtags)"
   ]
  },
  {
   "cell_type": "markdown",
   "id": "sitting-sleep",
   "metadata": {},
   "source": [
    "## Define the variational problem \n",
    "\n",
    "We specify the problem to solve though the weak formulation written in the [ufl](https://fenics.readthedocs.io/projects/ufl/en/latest/) syntax by giving the bilinear $a(u,v)$ and linear forms $L(v)$ in \n",
    "the weak formulation: \n",
    "\n",
    "find the *trial function* $u$ such that for all *test function* $v$\n",
    "$a(u,v)=L(v)$ with \n",
    "\n",
    "$$\n",
    "a(u,v)=\\int_{\\Omega\\setminus\\Gamma}\\sigma(\\varepsilon(u))\\cdot \\varepsilon(v)\\,\\mathrm{d}x, \n",
    "\\quad L(v)=\\int_\\Omega b\\cdot v \\,\\mathrm{d}x + \\int_{\\partial_N\\Omega} f\\cdot v \\,\\mathrm{d}s \n",
    "$$"
   ]
  },
  {
   "cell_type": "markdown",
   "id": "rural-childhood",
   "metadata": {},
   "source": [
    "Note on UFL terminology:\n",
    "- `ufl.inner(sigma(eps(u)), eps(v))` is an expression\n",
    "- `ufl.inner(sigma(eps(u)), eps(v)) * dx` is a form"
   ]
  },
  {
   "cell_type": "code",
   "execution_count": 12,
   "id": "documented-owner",
   "metadata": {},
   "outputs": [],
   "source": [
    "u = ufl.TrialFunction(V)\n",
    "v = ufl.TestFunction(V)\n",
    "\n",
    "E = 1. \n",
    "nu = 0.3 \n",
    "mu = E / (2.0 * (1.0 + nu))\n",
    "lmbda = E * nu / ((1.0 + nu) * (1.0 - 2.0 * nu))\n",
    "# this is for plane-stress\n",
    "lmbda = 2 * mu * lmbda / ( lmbda + 2 * mu )\n",
    "\n",
    "def eps(u):\n",
    "    \"\"\"Strain\"\"\"\n",
    "    return ufl.sym(ufl.grad(u))\n",
    "\n",
    "def sigma(eps):\n",
    "    \"\"\"Stress\"\"\"\n",
    "    return 2.0 * mu * eps + lmbda * ufl.tr(eps) * ufl.Identity(2)\n",
    "\n",
    "def a(u,v):\n",
    "    \"\"\"The bilinear form of the weak formulation\"\"\"\n",
    "    return ufl.inner(sigma(eps(u)), eps(v)) * dx \n",
    "\n",
    "def L(v): \n",
    "    \"\"\"The linear form of the weak formulation\"\"\"\n",
    "    # Volume force\n",
    "    b = fem.Constant(msh,ScalarType((0, 0)))\n",
    "\n",
    "    # Surface force on the top\n",
    "    f = fem.Constant(msh,ScalarType((0, 0.1)))\n",
    "    return ufl.dot(b, v) * dx + ufl.dot(f, v) * ds(1)"
   ]
  },
  {
   "cell_type": "markdown",
   "id": "incorporated-brain",
   "metadata": {},
   "source": [
    "Let us plot the solution using `pyvista`, see\n",
    "- https://jorgensd.github.io/dolfinx-tutorial/chapter3/component_bc.html\n",
    "- https://docs.fenicsproject.org/dolfinx/v0.5.0/python/demos/demo_pyvista.html"
   ]
  },
  {
   "cell_type": "markdown",
   "id": "crude-tennis",
   "metadata": {},
   "source": [
    "## Define the linear problem and solve\n",
    "We solve the problem using a direct solver. The class `dolfinx.fem.LinearProblem` assemble the stiffness matrix and load vector, apply the boundary conditions, and solve the linear system."
   ]
  },
  {
   "cell_type": "code",
   "execution_count": 13,
   "id": "established-latitude",
   "metadata": {},
   "outputs": [],
   "source": [
    "problem = fem.petsc.LinearProblem(a(u,v), L(v), bcs=bcs, \n",
    "                                    petsc_options={\"ksp_type\": \"preonly\", \"pc_type\": \"lu\"})\n",
    "uh = problem.solve()\n",
    "uh.name = \"displacement\""
   ]
  },
  {
   "cell_type": "markdown",
   "id": "subjective-preparation",
   "metadata": {},
   "source": [
    "## Postprocessing"
   ]
  },
  {
   "cell_type": "markdown",
   "id": "moved-world",
   "metadata": {},
   "source": [
    "We can easily calculate the potential energy"
   ]
  },
  {
   "cell_type": "code",
   "execution_count": 15,
   "id": "narrative-connecticut",
   "metadata": {},
   "outputs": [
    {
     "name": "stdout",
     "output_type": "stream",
     "text": [
      "The potential energy is -4.165e-03\n"
     ]
    }
   ],
   "source": [
    "energy = fem.assemble_scalar(fem.form(0.5 * a(uh, uh) - L(uh)))\n",
    "print(f\"The potential energy is {energy:2.3e}\")"
   ]
  },
  {
   "cell_type": "markdown",
   "id": "outside-houston",
   "metadata": {},
   "source": [
    "We can save the results to a file, that we can open with `paraview` (https://www.paraview.org/)"
   ]
  },
  {
   "cell_type": "code",
   "execution_count": 16,
   "id": "announced-example",
   "metadata": {},
   "outputs": [],
   "source": [
    "  with io.XDMFFile(MPI.COMM_WORLD, \"output/elasticity-demo.xdmf\", \"w\") as file:\n",
    "        file.write_mesh(uh.function_space.mesh)\n",
    "        file.write_function(uh)"
   ]
  },
  {
   "cell_type": "code",
   "execution_count": 17,
   "id": "laughing-plain",
   "metadata": {},
   "outputs": [
    {
     "data": {
      "application/vnd.jupyter.widget-view+json": {
       "model_id": "8888eabfa6264590b8430201c59d1bb7",
       "version_major": 2,
       "version_minor": 0
      },
      "text/plain": [
       "Renderer(camera=PerspectiveCamera(aspect=1.3333333333333333, children=(DirectionalLight(intensity=0.25, positi…"
      ]
     },
     "metadata": {},
     "output_type": "display_data"
    }
   ],
   "source": [
    "import pyvista\n",
    "pyvista.set_jupyter_backend(\"pythreejs\")\n",
    "\n",
    "# Create plotter and pyvista grid\n",
    "plotter = pyvista.Plotter()\n",
    "topology, cell_types, geometry = plot.create_vtk_mesh(msh)\n",
    "grid = pyvista.UnstructuredGrid(topology, cell_types, geometry)\n",
    "\n",
    "# Attach vector values to grid and warp grid by vector\n",
    "values = np.zeros((geometry.shape[0], 3), dtype=np.float64)\n",
    "values[:, :len(uh)] = uh.x.array.real.reshape((geometry.shape[0], len(uh)))\n",
    "grid[\"u\"] = values\n",
    "actor_0 = plotter.add_mesh(grid, style=\"wireframe\", color=\"k\")\n",
    "warped = grid.warp_by_vector(\"u\", factor=1.5)\n",
    "actor_1 = plotter.add_mesh(warped, show_edges=True)\n",
    "plotter.show_axes()\n",
    "plotter.camera_position = 'xy'\n",
    "\n",
    "if not pyvista.OFF_SCREEN:\n",
    "   plotter.show()\n",
    "else:\n",
    "   pyvista.start_xvfb()\n",
    "   figure_as_array = plotter.screenshot(\"deflection.png\")"
   ]
  },
  {
   "cell_type": "code",
   "execution_count": 1,
   "id": "2d668e2d",
   "metadata": {},
   "outputs": [
    {
     "name": "stdout",
     "output_type": "stream",
     "text": [
      "Info    : Meshing 1D...\n",
      "Info    : [  0%] Meshing curve 1 (Line)\n",
      "Info    : [ 20%] Meshing curve 2 (Line)\n",
      "Info    : [ 40%] Meshing curve 3 (Line)\n",
      "Info    : [ 60%] Meshing curve 4 (Line)\n",
      "Info    : [ 80%] Meshing curve 5 (Line)\n",
      "Info    : Done meshing 1D (Wall 0.00224604s, CPU 0.002403s)\n",
      "Info    : Meshing 2D...\n",
      "Info    : Meshing surface 1 (Plane, Frontal-Delaunay)\n",
      "Info    : Done meshing 2D (Wall 0.006265s, CPU 0.006155s)\n",
      "Info    : 413 nodes 829 elements\n",
      "The potential energy is -4.165e-03\n"
     ]
    }
   ],
   "source": [
    "import sys\n",
    "sys.path.append(\"../python\")\n",
    "\n",
    "# Import required libraries\n",
    "import matplotlib.pyplot as plt\n",
    "import numpy as np\n",
    "\n",
    "import dolfinx.fem as fem\n",
    "import dolfinx.mesh as mesh\n",
    "import dolfinx.io as io\n",
    "import dolfinx.plot as plot\n",
    "import ufl\n",
    "\n",
    "from mpi4py import MPI\n",
    "from petsc4py import PETSc\n",
    "from petsc4py.PETSc import ScalarType\n",
    "\n",
    "from meshes import generate_mesh_with_crack\n",
    "\n",
    "Lx = 1.\n",
    "Ly = .5\n",
    "Lcrack = 0.3\n",
    "lc =.2\n",
    "dist_min = .1\n",
    "dist_max = .3\n",
    "msh, mt, ft = generate_mesh_with_crack(\n",
    "        Lcrack=Lcrack,\n",
    "        Ly=0.5,\n",
    "        lc=0.1,  # caracteristic length of the mesh\n",
    "        refinement_ratio=10,  # how much it is refined at the tip zone\n",
    "        dist_min=dist_min,  # radius of tip zone\n",
    "        dist_max=dist_max,  # radius of the transition zone\n",
    "    )\n",
    "element = ufl.VectorElement('Lagrange',msh.ufl_cell(),degree=1,dim=2)\n",
    "V = fem.FunctionSpace(msh, element)\n",
    "def bottom_no_crack(x):\n",
    "    return np.logical_and(np.isclose(x[1], 0.0), \n",
    "                          x[0] > Lcrack)\n",
    "\n",
    "def right(x):\n",
    "    return np.isclose(x[0], Lx)\n",
    "\n",
    "V_x = V.sub(0)\n",
    "V_y = V.sub(1)\n",
    "\n",
    "bottom_no_crack_facets = mesh.locate_entities_boundary(msh, msh.topology.dim-1, bottom_no_crack)\n",
    "bottom_no_crack_dofs_y = fem.locate_dofs_topological(V.sub(1), msh.topology.dim-1, bottom_no_crack_facets)\n",
    "\n",
    "right_facets = mesh.locate_entities_boundary(msh, msh.topology.dim-1, right)\n",
    "right_dofs_x = fem.locate_dofs_topological(V.sub(0), msh.topology.dim-1, right_facets)\n",
    "bc_bottom = fem.dirichletbc(ScalarType(0), bottom_no_crack_dofs_y, V.sub(1))\n",
    "bc_right = fem.dirichletbc(ScalarType(0), right_dofs_x, V.sub(0))\n",
    "bcs = [bc_bottom, bc_right]\n",
    "\n",
    "dx = ufl.Measure(\"dx\",domain=msh)\n",
    "top_facets = mesh.locate_entities_boundary(msh, 1, lambda x : np.isclose(x[1], Ly))\n",
    "mt = mesh.meshtags(msh, 1, top_facets, 1)\n",
    "ds = ufl.Measure(\"ds\", subdomain_data=mt)\n",
    "\n",
    "u = ufl.TrialFunction(V)\n",
    "v = ufl.TestFunction(V)\n",
    "\n",
    "E = 1. \n",
    "nu = 0.3 \n",
    "mu = E / (2.0 * (1.0 + nu))\n",
    "lmbda = E * nu / ((1.0 + nu) * (1.0 - 2.0 * nu))\n",
    "# this is for plane-stress\n",
    "lmbda = 2 * mu * lmbda / ( lmbda + 2 * mu )\n",
    "\n",
    "def eps(u):\n",
    "    \"\"\"Strain\"\"\"\n",
    "    return ufl.sym(ufl.grad(u))\n",
    "\n",
    "def sigma(eps):\n",
    "    \"\"\"Stress\"\"\"\n",
    "    return 2.0 * mu * eps + lmbda * ufl.tr(eps) * ufl.Identity(2)\n",
    "\n",
    "def a(u,v):\n",
    "    \"\"\"The bilinear form of the weak formulation\"\"\"\n",
    "    return ufl.inner(sigma(eps(u)), eps(v)) * dx \n",
    "\n",
    "def L(v): \n",
    "    \"\"\"The linear form of the weak formulation\"\"\"\n",
    "    # Volume force\n",
    "    b = fem.Constant(msh,ScalarType((0, 0)))\n",
    "\n",
    "    # Surface force on the top\n",
    "    f = fem.Constant(msh,ScalarType((0, 0.1)))\n",
    "    return ufl.dot(b, v) * dx + ufl.dot(f, v) * ds(1)\n",
    "\n",
    "problem = fem.petsc.LinearProblem(a(u,v), L(v), bcs=bcs, \n",
    "                                    petsc_options={\"ksp_type\": \"preonly\", \"pc_type\": \"lu\"})\n",
    "uh = problem.solve()\n",
    "uh.name = \"displacement\"\n",
    "\n",
    "energy = fem.assemble_scalar(fem.form(0.5 * a(uh, uh) - L(uh)))\n",
    "print(f\"The potential energy is {energy:2.3e}\")\n",
    "with io.XDMFFile(MPI.COMM_WORLD, \"output/elasticity-demo.xdmf\", \"w\") as file:\n",
    "      file.write_mesh(uh.function_space.mesh)\n",
    "      file.write_function(uh)"
   ]
  },
  {
   "cell_type": "code",
   "execution_count": null,
   "id": "54947746",
   "metadata": {},
   "outputs": [],
   "source": []
  }
 ],
 "metadata": {
  "kernelspec": {
   "display_name": "Python 3.10.5 ('fenicsx-0.5.0')",
   "language": "python",
   "name": "python3"
  },
  "language_info": {
   "codemirror_mode": {
    "name": "ipython",
    "version": 3
   },
   "file_extension": ".py",
   "mimetype": "text/x-python",
   "name": "python",
   "nbconvert_exporter": "python",
   "pygments_lexer": "ipython3",
   "version": "3.10.5"
  },
  "vscode": {
   "interpreter": {
    "hash": "bc2130a58dfe28bf11bbbb361ab1bf84523d7972d4cba4c6fbe3de0199108cf8"
   }
  }
 },
 "nbformat": 4,
 "nbformat_minor": 5
}
